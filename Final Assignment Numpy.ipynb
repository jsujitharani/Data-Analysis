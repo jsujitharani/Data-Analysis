{
 "cells": [
  {
   "cell_type": "code",
   "execution_count": 54,
   "id": "d08819b7",
   "metadata": {},
   "outputs": [],
   "source": [
    "import numpy as np"
   ]
  },
  {
   "cell_type": "code",
   "execution_count": 55,
   "id": "44106e11",
   "metadata": {},
   "outputs": [],
   "source": [
    "x=np.genfromtxt(r\"C:\\Users\\sujit\\Downloads\\tipsf.csv\",delimiter=\",\",skip_header=1)"
   ]
  },
  {
   "cell_type": "code",
   "execution_count": 56,
   "id": "b4517890",
   "metadata": {},
   "outputs": [
    {
     "data": {
      "text/plain": [
       "array([[  0.  ,  16.99,   1.01, ...,   1.  ,   0.  ,   2.  ],\n",
       "       [  1.  ,  10.34,   1.66, ...,   1.  ,   0.  ,   3.  ],\n",
       "       [  2.  ,  21.01,   3.5 , ...,   1.  ,   0.  ,   3.  ],\n",
       "       ...,\n",
       "       [241.  ,  22.67,   2.  , ...,   0.  ,   0.  ,   2.  ],\n",
       "       [242.  ,  17.82,   1.75, ...,   0.  ,   0.  ,   2.  ],\n",
       "       [243.  ,  18.78,   3.  , ...,   2.  ,   0.  ,   2.  ]])"
      ]
     },
     "execution_count": 56,
     "metadata": {},
     "output_type": "execute_result"
    }
   ],
   "source": [
    "x"
   ]
  },
  {
   "cell_type": "code",
   "execution_count": 57,
   "id": "e473cc42",
   "metadata": {},
   "outputs": [
    {
     "data": {
      "text/plain": [
       "4827.77"
      ]
     },
     "execution_count": 57,
     "metadata": {},
     "output_type": "execute_result"
    }
   ],
   "source": [
    "#1>what is the total bill value\n",
    "\n",
    "np.sum(x[:,1])"
   ]
  },
  {
   "cell_type": "code",
   "execution_count": 58,
   "id": "58011a71",
   "metadata": {},
   "outputs": [
    {
     "data": {
      "text/plain": [
       "731.5799999999999"
      ]
     },
     "execution_count": 58,
     "metadata": {},
     "output_type": "execute_result"
    }
   ],
   "source": [
    "#2>what is the total tip value\n",
    "\n",
    "np.sum(x[:,2])"
   ]
  },
  {
   "cell_type": "code",
   "execution_count": 59,
   "id": "88b5e60f",
   "metadata": {},
   "outputs": [
    {
     "name": "stdout",
     "output_type": "stream",
     "text": [
      "sunday =  87\n",
      "saturday =  76\n",
      "thursday =  62\n",
      "friday =  19\n"
     ]
    }
   ],
   "source": [
    "#3>count of how many times sun,sat,thu,fri are there.\n",
    "z=np.unique(x[:,5],return_counts=True)\n",
    "a,b=z\n",
    "j=0\n",
    "for i in a:\n",
    "    if(i==0):\n",
    "        print(\"sunday = \",b[j])\n",
    "        j+=1\n",
    "    elif(i==1):\n",
    "        print(\"saturday = \",b[j])\n",
    "        j+=1\n",
    "    elif(i==2):\n",
    "        print(\"thursday = \",b[j])\n",
    "        j+=1\n",
    "    elif(i==3):\n",
    "        print(\"friday = \",b[j])\n",
    "        j+=1   "
   ]
  },
  {
   "cell_type": "code",
   "execution_count": 60,
   "id": "868b920b",
   "metadata": {},
   "outputs": [
    {
     "name": "stdout",
     "output_type": "stream",
     "text": [
      "93 smokers are there\n"
     ]
    }
   ],
   "source": [
    "#4>how many smokers are there\n",
    "q=np.sum(x[:,4])\n",
    "print(int(q),\"smokers are there\")"
   ]
  },
  {
   "cell_type": "code",
   "execution_count": 61,
   "id": "0fd23225",
   "metadata": {},
   "outputs": [
    {
     "name": "stdout",
     "output_type": "stream",
     "text": [
      "2.8334482758620685 average tip given by female\n",
      "3.0896178343949043 average tip given by male\n"
     ]
    }
   ],
   "source": [
    "#5>what is the average tip given by female and male\n",
    "a=np.sum(x[:,2].take(np.where(x[:,3]==0)))\n",
    "b=np.sum(x[:,2].take(np.where(x[:,3]==1)))\n",
    "z=np.unique(x[:,3],return_counts=True)\n",
    "q,w=z\n",
    "print(a/w[0],\"average tip given by female\")\n",
    "print(b/w[1],\"average tip given by male\")"
   ]
  },
  {
   "cell_type": "code",
   "execution_count": 62,
   "id": "93966086",
   "metadata": {},
   "outputs": [
    {
     "name": "stdout",
     "output_type": "stream",
     "text": [
      "total amount spent by female:  1571.0\n",
      "total amount spent by male:  3257.0\n"
     ]
    }
   ],
   "source": [
    "#6>how much amount have been spent by female and male.\n",
    "a=np.sum(x[:,1].take(np.where(x[:,3]==0)))\n",
    "b=np.sum(x[:,1].take(np.where(x[:,3]==1)))\n",
    "print(\"total amount spent by female: \",np.round(a))\n",
    "print(\"total amount spent by male: \",np.round(b))"
   ]
  },
  {
   "cell_type": "code",
   "execution_count": 63,
   "id": "0f23536f",
   "metadata": {},
   "outputs": [
    {
     "name": "stdout",
     "output_type": "stream",
     "text": [
      "maximum tip is  10.0\n",
      "minimum tip is  1.0\n"
     ]
    }
   ],
   "source": [
    "#7>what is the min and max tip given \n",
    "max_tip=np.max(x[:,2])\n",
    "min_tip=np.min(x[:,2])\n",
    "print(\"maximum tip is \",max_tip)\n",
    "print(\"minimum tip is \",min_tip)"
   ]
  },
  {
   "cell_type": "code",
   "execution_count": 64,
   "id": "a9bf7e7a",
   "metadata": {},
   "outputs": [
    {
     "name": "stdout",
     "output_type": "stream",
     "text": [
      "total female going for lunch 35\n",
      "total female going for dinner 52\n",
      "total male going for lunch 33\n",
      "total female going for dinner 124\n"
     ]
    }
   ],
   "source": [
    "#8>how many male and female are going for dinner and lunch\n",
    "z=np.unique(x[:,3].take(np.where((x[:,6]==1))),return_counts=True)      #lunch        0 means female 1 means male\n",
    "a,b=z\n",
    "y=np.unique(x[:,3].take(np.where((x[:,6]==0))),return_counts=True)       #dinner\n",
    "c,d=y\n",
    "for i in a:\n",
    "    if(i==0):\n",
    "        print(\"total female going for lunch\",b[0])\n",
    "        print(\"total female going for dinner\",d[0])\n",
    "    else:\n",
    "         print(\"total male going for lunch\",b[1])\n",
    "         print(\"total female going for dinner\",d[1])"
   ]
  },
  {
   "cell_type": "code",
   "execution_count": 65,
   "id": "7753ca8c",
   "metadata": {},
   "outputs": [
    {
     "name": "stdout",
     "output_type": "stream",
     "text": [
      "average of size =  3.0\n"
     ]
    }
   ],
   "source": [
    "#9>find out the average size\n",
    "z=np.unique(x[:,7],return_counts=True)\n",
    "a,b=z\n",
    "avg=np.sum(x[:,7])/np.sum(b)\n",
    "print(\"average of size = \",np.round(avg))"
   ]
  },
  {
   "cell_type": "code",
   "execution_count": 66,
   "id": "216cdf8d",
   "metadata": {},
   "outputs": [
    {
     "name": "stdout",
     "output_type": "stream",
     "text": [
      "female smokers are :  33\n",
      "male smokers are :  60\n"
     ]
    }
   ],
   "source": [
    "#10>find how many female smokers and male smokers are there\n",
    "z=np.unique(x[:,3].take(np.where((x[:,4]==1))),return_counts=True)\n",
    "a,b=z\n",
    "for i in a:\n",
    "    if(i==0):\n",
    "        print(\"female smokers are : \",b[0])\n",
    "    else:\n",
    "        print(\"male smokers are : \",b[1])"
   ]
  },
  {
   "cell_type": "code",
   "execution_count": null,
   "id": "2b9c48b3",
   "metadata": {},
   "outputs": [],
   "source": []
  },
  {
   "cell_type": "code",
   "execution_count": null,
   "id": "66b61921-ed82-4e5f-9b5d-fcda9ecbd920",
   "metadata": {},
   "outputs": [],
   "source": []
  },
  {
   "cell_type": "code",
   "execution_count": 69,
   "id": "344ebd34-9c1d-460d-97d6-c660f07af300",
   "metadata": {},
   "outputs": [],
   "source": [
    "a=np.genfromtxt(r\"C:\\Users\\sujit\\Downloads\\train_extended.csv\",delimiter=\",\",skip_header=1)"
   ]
  },
  {
   "cell_type": "code",
   "execution_count": 70,
   "id": "dfe0d173-c6d0-48cf-9b00-81714c448de7",
   "metadata": {},
   "outputs": [
    {
     "data": {
      "text/plain": [
       "array([[ 1.575     ,  1.225     ,  0.375     , ...,  6.3219385 ,\n",
       "         9.63883   , 10.        ],\n",
       "       [ 1.2375    ,  1.        ,  0.375     , ...,  3.798833  ,\n",
       "         7.654365  , 19.        ],\n",
       "       [ 1.45      ,  1.1625    ,  0.4125    , ...,  7.01650125,\n",
       "         7.257472  , 11.        ],\n",
       "       ...,\n",
       "       [ 1.125     ,  0.9125    ,  0.2875    , ...,  1.984465  ,\n",
       "         3.118445  ,  7.        ],\n",
       "       [ 1.625     ,  1.275     ,  0.4125    , ...,  7.86698625,\n",
       "        10.489315  , 11.        ],\n",
       "       [ 1.5875    ,  1.25      ,  0.3875    , ...,  7.38504475,\n",
       "         8.788345  , 11.        ]])"
      ]
     },
     "execution_count": 70,
     "metadata": {},
     "output_type": "execute_result"
    }
   ],
   "source": [
    "a"
   ]
  },
  {
   "cell_type": "code",
   "execution_count": 74,
   "id": "cbd26716-7e80-4208-9225-baf6ad9649cc",
   "metadata": {},
   "outputs": [
    {
     "name": "stdout",
     "output_type": "stream",
     "text": [
      "print maximum length is  7.58349125\n",
      "print minimum length is  0.0\n"
     ]
    }
   ],
   "source": [
    "#1>what is the maximum and minnimum length?\n",
    "\n",
    "x=np.max(a[:,0])\n",
    "print(\"print maximum length is \",x)\n",
    "y=np.min(a[:,0])\n",
    "print(\"print minimum length is \",y)"
   ]
  },
  {
   "cell_type": "code",
   "execution_count": 78,
   "id": "b16bc9da-24c2-4739-bfcc-9ec7cc441650",
   "metadata": {},
   "outputs": [
    {
     "data": {
      "text/plain": [
       "array(7.58349125)"
      ]
     },
     "execution_count": 78,
     "metadata": {},
     "output_type": "execute_result"
    }
   ],
   "source": [
    "#2>find out the difference between max and min length.\n",
    "\n",
    "def f(x):\n",
    "    return np.max(x)-np.min(x)\n",
    "np.apply_along_axis(f,0,a[:,0])"
   ]
  },
  {
   "cell_type": "code",
   "execution_count": 88,
   "id": "230a5862-5f73-4f0b-95db-1b96a4ca1af2",
   "metadata": {},
   "outputs": [
    {
     "data": {
      "text/plain": [
       "array([ 1.31244808,  1.02032036,  0.34602787, 23.12343631,  9.98937025,\n",
       "        4.99318096,  6.63422915,  9.950615  ])"
      ]
     },
     "execution_count": 88,
     "metadata": {},
     "output_type": "execute_result"
    }
   ],
   "source": [
    "#3>find column wise average.\n",
    "def f1(x):\n",
    "    return np.sum(x)/200000\n",
    "np.apply_along_axis(f1,0,a)\n",
    "    "
   ]
  },
  {
   "cell_type": "code",
   "execution_count": 101,
   "id": "77ed38ca-dda2-46de-b0c6-12d14313e51c",
   "metadata": {},
   "outputs": [
    {
     "name": "stdout",
     "output_type": "stream",
     "text": [
      "(1, 55336)\n",
      "[[11. 14. 13. ... 11. 11. 11.]]\n"
     ]
    }
   ],
   "source": [
    "#4>find out all the age whose height is gereater than 0.4\n",
    "z=a[:,7].take(np.where(a[:,2]>0.4))\n",
    "print(z.shape)\n",
    "print(z)"
   ]
  },
  {
   "cell_type": "code",
   "execution_count": 115,
   "id": "b813e2d6-38ec-44e1-bfdd-23446023c575",
   "metadata": {},
   "outputs": [
    {
     "name": "stdout",
     "output_type": "stream",
     "text": [
      "average height is  0.4085813793498825\n",
      "average weight is  31.681361864049048\n"
     ]
    }
   ],
   "source": [
    "#5>what is the average height and weight of the persons whose age is greater than 10.\n",
    "height=a[:,2].take(np.where(a[:,7]>10))\n",
    "count=height.shape\n",
    "weight=a[:,3].take(np.where(a[:,7]>10))\n",
    "count1=weight.shape\n",
    "l1=list(count)\n",
    "l2=list(count1)\n",
    "print(\"average height is \",np.sum(height)/l1[1])\n",
    "print(\"average weight is \",np.sum(weight)/l2[1])"
   ]
  },
  {
   "cell_type": "code",
   "execution_count": 118,
   "id": "77693948-9f92-4223-b082-d8407236a386",
   "metadata": {},
   "outputs": [
    {
     "data": {
      "text/plain": [
       "1326846.0"
      ]
     },
     "execution_count": 118,
     "metadata": {},
     "output_type": "execute_result"
    }
   ],
   "source": [
    "#6>what is the shell weight\n",
    "np.round(np.sum(a[:,6]))"
   ]
  },
  {
   "cell_type": "code",
   "execution_count": 119,
   "id": "2824f95f-a2e5-4034-aeec-4aa85ff0925b",
   "metadata": {},
   "outputs": [
    {
     "data": {
      "text/plain": [
       "(array([ 1.,  2.,  3.,  4.,  5.,  6.,  7.,  8.,  9., 10., 11., 12., 13.,\n",
       "        14., 15., 16., 17., 18., 19., 20., 21., 22., 23., 24., 25., 26.,\n",
       "        27., 29.]),\n",
       " array([   46,    42,   625,  2787,  5475, 12450, 18276, 26818, 32906,\n",
       "        30803, 23457, 12717, 10037,  6352,  4831,  3191,  2705,  1953,\n",
       "         1591,  1206,   721,   296,   352,   110,    51,    46,    99,\n",
       "           57], dtype=int64))"
      ]
     },
     "execution_count": 119,
     "metadata": {},
     "output_type": "execute_result"
    }
   ],
   "source": [
    "#7>how many persons belongs to each and every unique age\n",
    "np.unique(a[:,7],return_counts=True)"
   ]
  },
  {
   "cell_type": "code",
   "execution_count": 122,
   "id": "5afcf348-a5d5-45f5-97b6-8189dd5fc2de",
   "metadata": {},
   "outputs": [
    {
     "name": "stdout",
     "output_type": "stream",
     "text": [
      "the difference between shucked weight and viscera weight is  999238.0\n"
     ]
    }
   ],
   "source": [
    "#8>what is the differemce between shucked weight and viscera weight\n",
    "\n",
    "z=np.sum(a[:,4])\n",
    "x=np.sum(a[:,5])\n",
    "print(\"the difference between shucked weight and viscera weight is \",np.round(z-x))"
   ]
  },
  {
   "cell_type": "code",
   "execution_count": 129,
   "id": "aecdb9c6-1015-428d-9b3b-4a414b8a59db",
   "metadata": {},
   "outputs": [
    {
     "name": "stdout",
     "output_type": "stream",
     "text": [
      "the average height of the persons whose age is between 14 and 19 is  7.0\n"
     ]
    }
   ],
   "source": [
    "#9>what is the average height of the persons whose age is between 14 and 19.\n",
    "\n",
    "z=a.take(np.where((a[:,7]>14) & (a[:,7]<19)))\n",
    "sum=np.sum(z)\n",
    "count=list(z.shape)\n",
    "print(\"the average height of the persons whose age is between 14 and 19 is \",np.round(sum/count[1]))"
   ]
  },
  {
   "cell_type": "code",
   "execution_count": 136,
   "id": "c3a293e4-a9f6-4876-9963-dab6cdaa7fa3",
   "metadata": {},
   "outputs": [
    {
     "name": "stdout",
     "output_type": "stream",
     "text": [
      "the average weight if we include all shucked weight ,viscera weight and shell weight with weight is  45.0\n"
     ]
    }
   ],
   "source": [
    "#10>what is the average weight if we include all shucked weight ,viscera weight and shell weight with weight.\n",
    "z=np.sum(a[:,3:7])\n",
    "count=list(a.shape)\n",
    "print(\"the average weight if we include all shucked weight ,viscera weight and shell weight with weight is \",np.round(z/count[0]))"
   ]
  },
  {
   "cell_type": "code",
   "execution_count": null,
   "id": "7ce6bc93-8a24-4bca-98ab-3c480cfb15dd",
   "metadata": {},
   "outputs": [],
   "source": []
  },
  {
   "cell_type": "code",
   "execution_count": null,
   "id": "80266559-f406-409b-9f87-9dafed423e58",
   "metadata": {},
   "outputs": [],
   "source": []
  }
 ],
 "metadata": {
  "kernelspec": {
   "display_name": "Python 3 (ipykernel)",
   "language": "python",
   "name": "python3"
  },
  "language_info": {
   "codemirror_mode": {
    "name": "ipython",
    "version": 3
   },
   "file_extension": ".py",
   "mimetype": "text/x-python",
   "name": "python",
   "nbconvert_exporter": "python",
   "pygments_lexer": "ipython3",
   "version": "3.11.4"
  }
 },
 "nbformat": 4,
 "nbformat_minor": 5
}
