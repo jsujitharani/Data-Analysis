{
 "cells": [
  {
   "cell_type": "code",
   "execution_count": 1,
   "id": "df683b41-7e2f-4ee6-87cd-e1cc3b8ee9c7",
   "metadata": {},
   "outputs": [],
   "source": [
    "import pandas as pd\n",
    "import numpy as np"
   ]
  },
  {
   "cell_type": "code",
   "execution_count": 19,
   "id": "019b8eeb-4232-4fc3-9b4a-6c4771c3c393",
   "metadata": {},
   "outputs": [],
   "source": [
    "data=pd.read_csv(r\"C:\\Users\\sujit\\Downloads\\tipsf.csv\")"
   ]
  },
  {
   "cell_type": "code",
   "execution_count": 20,
   "id": "abcb02ca-b1bb-48a2-ba62-291d0d609d3e",
   "metadata": {},
   "outputs": [],
   "source": [
    "datac=data.copy()"
   ]
  },
  {
   "cell_type": "code",
   "execution_count": 21,
   "id": "6c3a8f00-074e-4fda-adbb-853c52e493f9",
   "metadata": {},
   "outputs": [
    {
     "data": {
      "text/plain": [
       "(244, 8)"
      ]
     },
     "execution_count": 21,
     "metadata": {},
     "output_type": "execute_result"
    }
   ],
   "source": [
    "datac.shape"
   ]
  },
  {
   "cell_type": "code",
   "execution_count": null,
   "id": "21003b0b-267f-45fc-9d51-ff10f9ecc79c",
   "metadata": {},
   "outputs": [],
   "source": []
  },
  {
   "cell_type": "code",
   "execution_count": 22,
   "id": "118163e2-c38a-45aa-a41b-aa6e07177308",
   "metadata": {},
   "outputs": [],
   "source": [
    "datac.drop([\"Unnamed: 0\"],axis=1,inplace=True)"
   ]
  },
  {
   "cell_type": "code",
   "execution_count": 23,
   "id": "428bdfd2-dc80-4824-bbf8-532064551f47",
   "metadata": {},
   "outputs": [
    {
     "data": {
      "text/html": [
       "<div>\n",
       "<style scoped>\n",
       "    .dataframe tbody tr th:only-of-type {\n",
       "        vertical-align: middle;\n",
       "    }\n",
       "\n",
       "    .dataframe tbody tr th {\n",
       "        vertical-align: top;\n",
       "    }\n",
       "\n",
       "    .dataframe thead th {\n",
       "        text-align: right;\n",
       "    }\n",
       "</style>\n",
       "<table border=\"1\" class=\"dataframe\">\n",
       "  <thead>\n",
       "    <tr style=\"text-align: right;\">\n",
       "      <th></th>\n",
       "      <th>total_bill</th>\n",
       "      <th>tip</th>\n",
       "      <th>sex</th>\n",
       "      <th>smoker</th>\n",
       "      <th>day</th>\n",
       "      <th>time</th>\n",
       "      <th>size</th>\n",
       "    </tr>\n",
       "  </thead>\n",
       "  <tbody>\n",
       "    <tr>\n",
       "      <th>0</th>\n",
       "      <td>16.99</td>\n",
       "      <td>1.01</td>\n",
       "      <td>0</td>\n",
       "      <td>0</td>\n",
       "      <td>1</td>\n",
       "      <td>0</td>\n",
       "      <td>2</td>\n",
       "    </tr>\n",
       "    <tr>\n",
       "      <th>1</th>\n",
       "      <td>10.34</td>\n",
       "      <td>1.66</td>\n",
       "      <td>1</td>\n",
       "      <td>0</td>\n",
       "      <td>1</td>\n",
       "      <td>0</td>\n",
       "      <td>3</td>\n",
       "    </tr>\n",
       "    <tr>\n",
       "      <th>2</th>\n",
       "      <td>21.01</td>\n",
       "      <td>3.50</td>\n",
       "      <td>1</td>\n",
       "      <td>0</td>\n",
       "      <td>1</td>\n",
       "      <td>0</td>\n",
       "      <td>3</td>\n",
       "    </tr>\n",
       "    <tr>\n",
       "      <th>3</th>\n",
       "      <td>23.68</td>\n",
       "      <td>3.31</td>\n",
       "      <td>1</td>\n",
       "      <td>0</td>\n",
       "      <td>1</td>\n",
       "      <td>0</td>\n",
       "      <td>2</td>\n",
       "    </tr>\n",
       "    <tr>\n",
       "      <th>4</th>\n",
       "      <td>24.59</td>\n",
       "      <td>3.61</td>\n",
       "      <td>0</td>\n",
       "      <td>0</td>\n",
       "      <td>1</td>\n",
       "      <td>0</td>\n",
       "      <td>4</td>\n",
       "    </tr>\n",
       "    <tr>\n",
       "      <th>...</th>\n",
       "      <td>...</td>\n",
       "      <td>...</td>\n",
       "      <td>...</td>\n",
       "      <td>...</td>\n",
       "      <td>...</td>\n",
       "      <td>...</td>\n",
       "      <td>...</td>\n",
       "    </tr>\n",
       "    <tr>\n",
       "      <th>239</th>\n",
       "      <td>29.03</td>\n",
       "      <td>5.92</td>\n",
       "      <td>1</td>\n",
       "      <td>0</td>\n",
       "      <td>0</td>\n",
       "      <td>0</td>\n",
       "      <td>3</td>\n",
       "    </tr>\n",
       "    <tr>\n",
       "      <th>240</th>\n",
       "      <td>27.18</td>\n",
       "      <td>2.00</td>\n",
       "      <td>0</td>\n",
       "      <td>1</td>\n",
       "      <td>0</td>\n",
       "      <td>0</td>\n",
       "      <td>2</td>\n",
       "    </tr>\n",
       "    <tr>\n",
       "      <th>241</th>\n",
       "      <td>22.67</td>\n",
       "      <td>2.00</td>\n",
       "      <td>1</td>\n",
       "      <td>1</td>\n",
       "      <td>0</td>\n",
       "      <td>0</td>\n",
       "      <td>2</td>\n",
       "    </tr>\n",
       "    <tr>\n",
       "      <th>242</th>\n",
       "      <td>17.82</td>\n",
       "      <td>1.75</td>\n",
       "      <td>1</td>\n",
       "      <td>0</td>\n",
       "      <td>0</td>\n",
       "      <td>0</td>\n",
       "      <td>2</td>\n",
       "    </tr>\n",
       "    <tr>\n",
       "      <th>243</th>\n",
       "      <td>18.78</td>\n",
       "      <td>3.00</td>\n",
       "      <td>0</td>\n",
       "      <td>0</td>\n",
       "      <td>2</td>\n",
       "      <td>0</td>\n",
       "      <td>2</td>\n",
       "    </tr>\n",
       "  </tbody>\n",
       "</table>\n",
       "<p>244 rows × 7 columns</p>\n",
       "</div>"
      ],
      "text/plain": [
       "     total_bill   tip  sex  smoker  day  time  size\n",
       "0         16.99  1.01    0       0    1     0     2\n",
       "1         10.34  1.66    1       0    1     0     3\n",
       "2         21.01  3.50    1       0    1     0     3\n",
       "3         23.68  3.31    1       0    1     0     2\n",
       "4         24.59  3.61    0       0    1     0     4\n",
       "..          ...   ...  ...     ...  ...   ...   ...\n",
       "239       29.03  5.92    1       0    0     0     3\n",
       "240       27.18  2.00    0       1    0     0     2\n",
       "241       22.67  2.00    1       1    0     0     2\n",
       "242       17.82  1.75    1       0    0     0     2\n",
       "243       18.78  3.00    0       0    2     0     2\n",
       "\n",
       "[244 rows x 7 columns]"
      ]
     },
     "execution_count": 23,
     "metadata": {},
     "output_type": "execute_result"
    }
   ],
   "source": [
    "datac"
   ]
  },
  {
   "cell_type": "code",
   "execution_count": 24,
   "id": "3fbc0de5-0129-4288-9624-86d447a0ffea",
   "metadata": {},
   "outputs": [],
   "source": [
    "c=datac[\"total_bill\"]"
   ]
  },
  {
   "cell_type": "code",
   "execution_count": 25,
   "id": "ac1fe4fc-8703-4bea-b1bf-0498d11bf807",
   "metadata": {},
   "outputs": [
    {
     "data": {
      "text/plain": [
       "0      16.99\n",
       "1      10.34\n",
       "2      21.01\n",
       "3      23.68\n",
       "4      24.59\n",
       "       ...  \n",
       "239    29.03\n",
       "240    27.18\n",
       "241    22.67\n",
       "242    17.82\n",
       "243    18.78\n",
       "Name: total_bill, Length: 244, dtype: float64"
      ]
     },
     "execution_count": 25,
     "metadata": {},
     "output_type": "execute_result"
    }
   ],
   "source": [
    "c"
   ]
  },
  {
   "cell_type": "code",
   "execution_count": 26,
   "id": "0c3db96e-453f-4b7c-8beb-308a74ef6f0c",
   "metadata": {},
   "outputs": [
    {
     "name": "stdout",
     "output_type": "stream",
     "text": [
      "4827.770000000001\n"
     ]
    }
   ],
   "source": [
    "##1>what is the total bill value\n",
    "\n",
    "\n",
    "s=0\n",
    "for i in c:\n",
    "   s=s+i\n",
    "print(s)"
   ]
  },
  {
   "cell_type": "code",
   "execution_count": 27,
   "id": "8b7a26a2-9a1f-4e0c-a5d0-1828695e2861",
   "metadata": {},
   "outputs": [
    {
     "name": "stdout",
     "output_type": "stream",
     "text": [
      "731.58\n"
     ]
    }
   ],
   "source": [
    "#2>what is the total tip value\n",
    "\n",
    "d=datac[\"tip\"]\n",
    "s=0\n",
    "for i in d:\n",
    "   s=s+i\n",
    "print(s)"
   ]
  },
  {
   "cell_type": "code",
   "execution_count": 34,
   "id": "4eff174a-c992-4af7-bc83-960f62cf1a40",
   "metadata": {},
   "outputs": [
    {
     "name": "stdout",
     "output_type": "stream",
     "text": [
      "total sundays are  87\n",
      "total saturdays are  76\n",
      "total thurdays are  62\n",
      "total fridays are  19\n"
     ]
    }
   ],
   "source": [
    "#3>count of how many times sun,sat,thu,fri are there.\n",
    "\n",
    "a=datac.loc[datac[\"day\"]==0].shape\n",
    "b=datac.loc[datac[\"day\"]==1].shape\n",
    "c=datac.loc[datac[\"day\"]==2].shape\n",
    "d=datac.loc[datac[\"day\"]==3].shape\n",
    "print(\"total sundays are \",a[0])\n",
    "print(\"total saturdays are \",b[0])\n",
    "print(\"total thurdays are \",c[0])\n",
    "print(\"total fridays are \",d[0])"
   ]
  },
  {
   "cell_type": "code",
   "execution_count": 36,
   "id": "89941bb0-d4be-4fca-b220-fa2f5d6ae790",
   "metadata": {},
   "outputs": [
    {
     "name": "stdout",
     "output_type": "stream",
     "text": [
      "total smokers are  93\n"
     ]
    }
   ],
   "source": [
    "#4>how many smokers are there\n",
    "a=datac.loc[datac[\"smoker\"]==1].shape\n",
    "print(\"total smokers are \",a[0])"
   ]
  },
  {
   "cell_type": "code",
   "execution_count": 66,
   "id": "c73d6cfa-68e0-4962-abfe-def6467366b5",
   "metadata": {},
   "outputs": [
    {
     "name": "stdout",
     "output_type": "stream",
     "text": [
      "by female  tip    2.833448\n",
      "dtype: float64\n",
      "by male  tip    3.089618\n",
      "dtype: float64\n"
     ]
    }
   ],
   "source": [
    "#5>what is the average tip given by female and male\n",
    "a=datac.loc[datac[\"sex\"]==0,[\"tip\"]]\n",
    "b=a.shape\n",
    "c=np.sum(a)\n",
    "d=c/b[0]\n",
    "print(\"by female \",d)\n",
    "e=datac.loc[datac[\"sex\"]==1,[\"tip\"]]\n",
    "f=e.shape\n",
    "g=np.sum(e)\n",
    "h=g/f[0]\n",
    "print(\"by male \",h)"
   ]
  },
  {
   "cell_type": "code",
   "execution_count": 72,
   "id": "26c69f5e-3ab2-49fa-bdeb-63c33f9f0a00",
   "metadata": {},
   "outputs": [
    {
     "name": "stdout",
     "output_type": "stream",
     "text": [
      "Female  total_bill    1570.95\n",
      "dtype: float64\n",
      "Male  total_bill    3256.82\n",
      "dtype: float64\n"
     ]
    }
   ],
   "source": [
    "#6>how much amount have been spent by female and male.\n",
    "female=datac.loc[datac[\"sex\"]==0,[\"total_bill\"]]\n",
    "sum_female=np.sum(female)\n",
    "male=datac.loc[datac[\"sex\"]==1,[\"total_bill\"]]\n",
    "sum_male=np.sum(male)\n",
    "print(\"Female \",sum_female)\n",
    "print(\"Male \",sum_male)"
   ]
  },
  {
   "cell_type": "code",
   "execution_count": 81,
   "id": "3159c9ff-0084-467c-9aea-f54c9ede3a31",
   "metadata": {},
   "outputs": [
    {
     "name": "stdout",
     "output_type": "stream",
     "text": [
      "      tip\n",
      "max  10.0\n",
      "min   1.0\n"
     ]
    }
   ],
   "source": [
    "#7>what is the min and max tip given \n",
    "tips=datac.describe()\n",
    "max_min_tip=tips.loc[[\"max\",\"min\"],[\"tip\"]]\n",
    "print(max_min_tip)\n"
   ]
  },
  {
   "cell_type": "code",
   "execution_count": 87,
   "id": "3dbb9b1c-140b-430c-bf88-c05f6c27e41d",
   "metadata": {},
   "outputs": [
    {
     "name": "stdout",
     "output_type": "stream",
     "text": [
      "52  female are going for lunch\n",
      "124  male are going for lunch\n",
      "35  female are going for dinner\n",
      "33  male are going for dinner\n"
     ]
    }
   ],
   "source": [
    "#8>how many male and female are going for dinner and lunch\n",
    "\n",
    "lunch_female=datac.loc[(datac[\"sex\"]==0) & (datac[\"time\"]==0)].shape\n",
    "lunch_male=datac.loc[(datac[\"sex\"]==1) & (datac[\"time\"]==0)].shape\n",
    "dinner_female=datac.loc[(datac[\"sex\"]==0) & (datac[\"time\"]==1)].shape\n",
    "dinner_male=datac.loc[(datac[\"sex\"]==1) & (datac[\"time\"]==1)].shape\n",
    "print(lunch_female[0],\" female are going for lunch\")\n",
    "print(lunch_male[0],\" male are going for lunch\")\n",
    "print(dinner_female[0],\" female are going for dinner\")\n",
    "print(dinner_male[0],\" male are going for dinner\")"
   ]
  },
  {
   "cell_type": "code",
   "execution_count": 98,
   "id": "b5216a7f-37bb-4966-b7a8-7efeb3804ec7",
   "metadata": {},
   "outputs": [
    {
     "name": "stdout",
     "output_type": "stream",
     "text": [
      "average size is  3.0\n"
     ]
    }
   ],
   "source": [
    "#9>find out the average size\n",
    "\n",
    "size=datac[\"size\"]\n",
    "sp=size.shape\n",
    "sum_size=np.sum(size)\n",
    "print(\"average size is \",np.round(sum_size/sp[0]))\n"
   ]
  },
  {
   "cell_type": "code",
   "execution_count": 106,
   "id": "dac194c1-9b0b-4bc4-83e2-4e4f3682ecec",
   "metadata": {},
   "outputs": [
    {
     "name": "stdout",
     "output_type": "stream",
     "text": [
      "female  smoker    33\n",
      "dtype: int64\n",
      "male  smoker    60\n",
      "dtype: int64\n"
     ]
    }
   ],
   "source": [
    "#10>find how many female smokers and male smokers are there\n",
    "\n",
    "female_smokers=datac.loc[datac[\"sex\"]==0,[\"smoker\"]]\n",
    "a=np.sum(female_smokers)\n",
    "male_smokers=datac.loc[datac[\"sex\"]==1,[\"smoker\"]]\n",
    "b=np.sum(male_smokers)\n",
    "print(\"female \",a)\n",
    "print(\"male \",b)"
   ]
  },
  {
   "cell_type": "code",
   "execution_count": null,
   "id": "c3a30167-1b3b-45c6-8ac3-4a58081a113c",
   "metadata": {},
   "outputs": [],
   "source": []
  },
  {
   "cell_type": "code",
   "execution_count": null,
   "id": "463d2cfe-57da-40c0-af34-2850cb689f06",
   "metadata": {},
   "outputs": [],
   "source": []
  },
  {
   "cell_type": "code",
   "execution_count": null,
   "id": "636902ca-5f3a-41a1-a720-42dd7759e67a",
   "metadata": {},
   "outputs": [],
   "source": []
  },
  {
   "cell_type": "code",
   "execution_count": 108,
   "id": "b1322966-dce8-4a0c-a8f0-bfbe889d93ff",
   "metadata": {},
   "outputs": [],
   "source": [
    "data1=pd.read_csv(r\"C:\\Users\\sujit\\Downloads\\train_extended.csv\")"
   ]
  },
  {
   "cell_type": "code",
   "execution_count": 109,
   "id": "91f23a0c-ffff-49df-9fe0-13e94cf3e94e",
   "metadata": {},
   "outputs": [
    {
     "data": {
      "text/html": [
       "<div>\n",
       "<style scoped>\n",
       "    .dataframe tbody tr th:only-of-type {\n",
       "        vertical-align: middle;\n",
       "    }\n",
       "\n",
       "    .dataframe tbody tr th {\n",
       "        vertical-align: top;\n",
       "    }\n",
       "\n",
       "    .dataframe thead th {\n",
       "        text-align: right;\n",
       "    }\n",
       "</style>\n",
       "<table border=\"1\" class=\"dataframe\">\n",
       "  <thead>\n",
       "    <tr style=\"text-align: right;\">\n",
       "      <th></th>\n",
       "      <th>Length</th>\n",
       "      <th>Diameter</th>\n",
       "      <th>Height</th>\n",
       "      <th>Weight</th>\n",
       "      <th>Shucked Weight</th>\n",
       "      <th>Viscera Weight</th>\n",
       "      <th>Shell Weight</th>\n",
       "      <th>Age</th>\n",
       "    </tr>\n",
       "  </thead>\n",
       "  <tbody>\n",
       "    <tr>\n",
       "      <th>0</th>\n",
       "      <td>1.5750</td>\n",
       "      <td>1.2250</td>\n",
       "      <td>0.3750</td>\n",
       "      <td>31.226974</td>\n",
       "      <td>12.303683</td>\n",
       "      <td>6.321938</td>\n",
       "      <td>9.638830</td>\n",
       "      <td>10</td>\n",
       "    </tr>\n",
       "    <tr>\n",
       "      <th>1</th>\n",
       "      <td>1.2375</td>\n",
       "      <td>1.0000</td>\n",
       "      <td>0.3750</td>\n",
       "      <td>21.885814</td>\n",
       "      <td>7.654365</td>\n",
       "      <td>3.798833</td>\n",
       "      <td>7.654365</td>\n",
       "      <td>19</td>\n",
       "    </tr>\n",
       "    <tr>\n",
       "      <th>2</th>\n",
       "      <td>1.4500</td>\n",
       "      <td>1.1625</td>\n",
       "      <td>0.4125</td>\n",
       "      <td>28.250277</td>\n",
       "      <td>11.127179</td>\n",
       "      <td>7.016501</td>\n",
       "      <td>7.257472</td>\n",
       "      <td>11</td>\n",
       "    </tr>\n",
       "    <tr>\n",
       "      <th>3</th>\n",
       "      <td>1.3500</td>\n",
       "      <td>1.0250</td>\n",
       "      <td>0.3750</td>\n",
       "      <td>21.588144</td>\n",
       "      <td>9.738053</td>\n",
       "      <td>4.110678</td>\n",
       "      <td>6.378637</td>\n",
       "      <td>9</td>\n",
       "    </tr>\n",
       "    <tr>\n",
       "      <th>4</th>\n",
       "      <td>1.1375</td>\n",
       "      <td>0.8750</td>\n",
       "      <td>0.2875</td>\n",
       "      <td>14.968536</td>\n",
       "      <td>5.953395</td>\n",
       "      <td>2.962523</td>\n",
       "      <td>3.713785</td>\n",
       "      <td>8</td>\n",
       "    </tr>\n",
       "    <tr>\n",
       "      <th>...</th>\n",
       "      <td>...</td>\n",
       "      <td>...</td>\n",
       "      <td>...</td>\n",
       "      <td>...</td>\n",
       "      <td>...</td>\n",
       "      <td>...</td>\n",
       "      <td>...</td>\n",
       "      <td>...</td>\n",
       "    </tr>\n",
       "    <tr>\n",
       "      <th>199995</th>\n",
       "      <td>1.8125</td>\n",
       "      <td>1.2750</td>\n",
       "      <td>0.4375</td>\n",
       "      <td>42.141532</td>\n",
       "      <td>20.000572</td>\n",
       "      <td>9.979024</td>\n",
       "      <td>11.609120</td>\n",
       "      <td>11</td>\n",
       "    </tr>\n",
       "    <tr>\n",
       "      <th>199996</th>\n",
       "      <td>0.9875</td>\n",
       "      <td>0.6750</td>\n",
       "      <td>0.2375</td>\n",
       "      <td>7.980384</td>\n",
       "      <td>3.742134</td>\n",
       "      <td>1.913591</td>\n",
       "      <td>2.267960</td>\n",
       "      <td>6</td>\n",
       "    </tr>\n",
       "    <tr>\n",
       "      <th>199997</th>\n",
       "      <td>1.1250</td>\n",
       "      <td>0.9125</td>\n",
       "      <td>0.2875</td>\n",
       "      <td>10.886208</td>\n",
       "      <td>4.904464</td>\n",
       "      <td>1.984465</td>\n",
       "      <td>3.118445</td>\n",
       "      <td>7</td>\n",
       "    </tr>\n",
       "    <tr>\n",
       "      <th>199998</th>\n",
       "      <td>1.6250</td>\n",
       "      <td>1.2750</td>\n",
       "      <td>0.4125</td>\n",
       "      <td>33.891827</td>\n",
       "      <td>13.196692</td>\n",
       "      <td>7.866986</td>\n",
       "      <td>10.489315</td>\n",
       "      <td>11</td>\n",
       "    </tr>\n",
       "    <tr>\n",
       "      <th>199999</th>\n",
       "      <td>1.5875</td>\n",
       "      <td>1.2500</td>\n",
       "      <td>0.3875</td>\n",
       "      <td>34.373769</td>\n",
       "      <td>17.222321</td>\n",
       "      <td>7.385045</td>\n",
       "      <td>8.788345</td>\n",
       "      <td>11</td>\n",
       "    </tr>\n",
       "  </tbody>\n",
       "</table>\n",
       "<p>200000 rows × 8 columns</p>\n",
       "</div>"
      ],
      "text/plain": [
       "        Length  Diameter  Height     Weight  Shucked Weight  Viscera Weight  \\\n",
       "0       1.5750    1.2250  0.3750  31.226974       12.303683        6.321938   \n",
       "1       1.2375    1.0000  0.3750  21.885814        7.654365        3.798833   \n",
       "2       1.4500    1.1625  0.4125  28.250277       11.127179        7.016501   \n",
       "3       1.3500    1.0250  0.3750  21.588144        9.738053        4.110678   \n",
       "4       1.1375    0.8750  0.2875  14.968536        5.953395        2.962523   \n",
       "...        ...       ...     ...        ...             ...             ...   \n",
       "199995  1.8125    1.2750  0.4375  42.141532       20.000572        9.979024   \n",
       "199996  0.9875    0.6750  0.2375   7.980384        3.742134        1.913591   \n",
       "199997  1.1250    0.9125  0.2875  10.886208        4.904464        1.984465   \n",
       "199998  1.6250    1.2750  0.4125  33.891827       13.196692        7.866986   \n",
       "199999  1.5875    1.2500  0.3875  34.373769       17.222321        7.385045   \n",
       "\n",
       "        Shell Weight  Age  \n",
       "0           9.638830   10  \n",
       "1           7.654365   19  \n",
       "2           7.257472   11  \n",
       "3           6.378637    9  \n",
       "4           3.713785    8  \n",
       "...              ...  ...  \n",
       "199995     11.609120   11  \n",
       "199996      2.267960    6  \n",
       "199997      3.118445    7  \n",
       "199998     10.489315   11  \n",
       "199999      8.788345   11  \n",
       "\n",
       "[200000 rows x 8 columns]"
      ]
     },
     "execution_count": 109,
     "metadata": {},
     "output_type": "execute_result"
    }
   ],
   "source": [
    "data1"
   ]
  },
  {
   "cell_type": "code",
   "execution_count": 110,
   "id": "da63854e-97b2-460e-9211-1613f658c186",
   "metadata": {},
   "outputs": [
    {
     "data": {
      "text/plain": [
       "(200000, 8)"
      ]
     },
     "execution_count": 110,
     "metadata": {},
     "output_type": "execute_result"
    }
   ],
   "source": [
    "data1.shape"
   ]
  },
  {
   "cell_type": "code",
   "execution_count": 111,
   "id": "7d8a1bdd-2bfe-4000-9a88-1538d331f7a5",
   "metadata": {},
   "outputs": [
    {
     "data": {
      "text/html": [
       "<div>\n",
       "<style scoped>\n",
       "    .dataframe tbody tr th:only-of-type {\n",
       "        vertical-align: middle;\n",
       "    }\n",
       "\n",
       "    .dataframe tbody tr th {\n",
       "        vertical-align: top;\n",
       "    }\n",
       "\n",
       "    .dataframe thead th {\n",
       "        text-align: right;\n",
       "    }\n",
       "</style>\n",
       "<table border=\"1\" class=\"dataframe\">\n",
       "  <thead>\n",
       "    <tr style=\"text-align: right;\">\n",
       "      <th></th>\n",
       "      <th>Length</th>\n",
       "      <th>Diameter</th>\n",
       "      <th>Height</th>\n",
       "      <th>Weight</th>\n",
       "      <th>Shucked Weight</th>\n",
       "      <th>Viscera Weight</th>\n",
       "      <th>Shell Weight</th>\n",
       "      <th>Age</th>\n",
       "    </tr>\n",
       "  </thead>\n",
       "  <tbody>\n",
       "    <tr>\n",
       "      <th>count</th>\n",
       "      <td>200000.000000</td>\n",
       "      <td>200000.000000</td>\n",
       "      <td>200000.000000</td>\n",
       "      <td>200000.000000</td>\n",
       "      <td>200000.000000</td>\n",
       "      <td>200000.000000</td>\n",
       "      <td>200000.000000</td>\n",
       "      <td>200000.000000</td>\n",
       "    </tr>\n",
       "    <tr>\n",
       "      <th>mean</th>\n",
       "      <td>1.312448</td>\n",
       "      <td>1.020320</td>\n",
       "      <td>0.346028</td>\n",
       "      <td>23.123436</td>\n",
       "      <td>9.989370</td>\n",
       "      <td>4.993181</td>\n",
       "      <td>6.634229</td>\n",
       "      <td>9.950615</td>\n",
       "    </tr>\n",
       "    <tr>\n",
       "      <th>std</th>\n",
       "      <td>0.289833</td>\n",
       "      <td>0.238723</td>\n",
       "      <td>0.091179</td>\n",
       "      <td>12.597823</td>\n",
       "      <td>5.604343</td>\n",
       "      <td>2.785712</td>\n",
       "      <td>3.556733</td>\n",
       "      <td>3.217088</td>\n",
       "    </tr>\n",
       "    <tr>\n",
       "      <th>min</th>\n",
       "      <td>0.000000</td>\n",
       "      <td>0.000000</td>\n",
       "      <td>0.000000</td>\n",
       "      <td>0.028349</td>\n",
       "      <td>0.014175</td>\n",
       "      <td>0.014175</td>\n",
       "      <td>0.042524</td>\n",
       "      <td>1.000000</td>\n",
       "    </tr>\n",
       "    <tr>\n",
       "      <th>25%</th>\n",
       "      <td>1.150000</td>\n",
       "      <td>0.875000</td>\n",
       "      <td>0.287500</td>\n",
       "      <td>13.154168</td>\n",
       "      <td>5.669900</td>\n",
       "      <td>2.792426</td>\n",
       "      <td>3.827183</td>\n",
       "      <td>8.000000</td>\n",
       "    </tr>\n",
       "    <tr>\n",
       "      <th>50%</th>\n",
       "      <td>1.375000</td>\n",
       "      <td>1.075000</td>\n",
       "      <td>0.362500</td>\n",
       "      <td>23.515910</td>\n",
       "      <td>9.851451</td>\n",
       "      <td>4.890289</td>\n",
       "      <td>6.803880</td>\n",
       "      <td>10.000000</td>\n",
       "    </tr>\n",
       "    <tr>\n",
       "      <th>75%</th>\n",
       "      <td>1.525000</td>\n",
       "      <td>1.200000</td>\n",
       "      <td>0.412500</td>\n",
       "      <td>32.063285</td>\n",
       "      <td>13.933779</td>\n",
       "      <td>6.959802</td>\n",
       "      <td>9.029316</td>\n",
       "      <td>11.000000</td>\n",
       "    </tr>\n",
       "    <tr>\n",
       "      <th>max</th>\n",
       "      <td>7.583491</td>\n",
       "      <td>2.250000</td>\n",
       "      <td>2.825000</td>\n",
       "      <td>80.101512</td>\n",
       "      <td>45.274152</td>\n",
       "      <td>26.124064</td>\n",
       "      <td>37.038622</td>\n",
       "      <td>29.000000</td>\n",
       "    </tr>\n",
       "  </tbody>\n",
       "</table>\n",
       "</div>"
      ],
      "text/plain": [
       "              Length       Diameter         Height         Weight  \\\n",
       "count  200000.000000  200000.000000  200000.000000  200000.000000   \n",
       "mean        1.312448       1.020320       0.346028      23.123436   \n",
       "std         0.289833       0.238723       0.091179      12.597823   \n",
       "min         0.000000       0.000000       0.000000       0.028349   \n",
       "25%         1.150000       0.875000       0.287500      13.154168   \n",
       "50%         1.375000       1.075000       0.362500      23.515910   \n",
       "75%         1.525000       1.200000       0.412500      32.063285   \n",
       "max         7.583491       2.250000       2.825000      80.101512   \n",
       "\n",
       "       Shucked Weight  Viscera Weight   Shell Weight            Age  \n",
       "count   200000.000000   200000.000000  200000.000000  200000.000000  \n",
       "mean         9.989370        4.993181       6.634229       9.950615  \n",
       "std          5.604343        2.785712       3.556733       3.217088  \n",
       "min          0.014175        0.014175       0.042524       1.000000  \n",
       "25%          5.669900        2.792426       3.827183       8.000000  \n",
       "50%          9.851451        4.890289       6.803880      10.000000  \n",
       "75%         13.933779        6.959802       9.029316      11.000000  \n",
       "max         45.274152       26.124064      37.038622      29.000000  "
      ]
     },
     "execution_count": 111,
     "metadata": {},
     "output_type": "execute_result"
    }
   ],
   "source": [
    "data1.describe()"
   ]
  },
  {
   "cell_type": "code",
   "execution_count": 114,
   "id": "e8e297f7-0457-46aa-b5e0-de070cc92a97",
   "metadata": {},
   "outputs": [
    {
     "name": "stdout",
     "output_type": "stream",
     "text": [
      "       Length\n",
      "max  7.583491\n",
      "min  0.000000\n"
     ]
    }
   ],
   "source": [
    "#1>what is the maximum and minnimum length?\n",
    "\n",
    "a=data1.describe()\n",
    "b=a.loc[[\"max\",\"min\"],[\"Length\"]]\n",
    "print(b)"
   ]
  },
  {
   "cell_type": "code",
   "execution_count": 145,
   "id": "12527038-cc4f-46b6-9fd5-2f2e2939c8cb",
   "metadata": {},
   "outputs": [
    {
     "name": "stdout",
     "output_type": "stream",
     "text": [
      "7.58349125\n"
     ]
    }
   ],
   "source": [
    "#2>find out the difference between max and min length.\n",
    "\n",
    "a=data1.describe()\n",
    "b=a.loc[[\"max\"],[\"Length\"]]\n",
    "c=a.loc[[\"min\"],[\"Length\"]]\n",
    "d=(b.values)-(c.values)\n",
    "print(d[0,0])\n",
    "\n"
   ]
  },
  {
   "cell_type": "code",
   "execution_count": 150,
   "id": "828c4f67-8171-4043-a23c-07e9cb483ed9",
   "metadata": {},
   "outputs": [
    {
     "name": "stdout",
     "output_type": "stream",
     "text": [
      "average of each colum\n",
      "\n",
      "Length             1.312448\n",
      "Diameter           1.020320\n",
      "Height             0.346028\n",
      "Weight            23.123436\n",
      "Shucked Weight     9.989370\n",
      "Viscera Weight     4.993181\n",
      "Shell Weight       6.634229\n",
      "Age                9.950615\n",
      "Name: mean, dtype: float64\n"
     ]
    }
   ],
   "source": [
    "#3>find column wise average.\n",
    "\n",
    "a=data1.describe()\n",
    "print(\"average of each colum\")\n",
    "print()\n",
    "b=a.loc[\"mean\"]\n",
    "print(b)"
   ]
  },
  {
   "cell_type": "code",
   "execution_count": 153,
   "id": "4294d223-bb29-4e3d-be27-12f4ce34a0e9",
   "metadata": {},
   "outputs": [
    {
     "name": "stdout",
     "output_type": "stream",
     "text": [
      "        Age\n",
      "2        11\n",
      "6        14\n",
      "7        13\n",
      "10       10\n",
      "14       14\n",
      "...     ...\n",
      "199976   14\n",
      "199977   21\n",
      "199984   11\n",
      "199995   11\n",
      "199998   11\n",
      "\n",
      "[55336 rows x 1 columns]\n"
     ]
    }
   ],
   "source": [
    "#4>find out all the age whose height is gereater than 0.4\n",
    "\n",
    "\n",
    "a=data1.loc[data1[\"Height\"]>0.4,[\"Age\"]]\n",
    "print(a)"
   ]
  },
  {
   "cell_type": "code",
   "execution_count": 168,
   "id": "17a292df-a342-4af8-8f9b-b2bb23d43006",
   "metadata": {},
   "outputs": [
    {
     "name": "stdout",
     "output_type": "stream",
     "text": [
      "average of  Height    0.408581\n",
      "dtype: float64\n",
      "average of  Weight    31.681362\n",
      "dtype: float64\n"
     ]
    }
   ],
   "source": [
    "#5>what is the average height and weight of the persons whose age is greater than 10.\n",
    "\n",
    "a=data1.loc[data1[\"Age\"]>10,[\"Height\"]]\n",
    "b=a.shape\n",
    "avg=np.sum(a)/(b[0])\n",
    "d=data1.loc[data1[\"Age\"]>10,[\"Weight\"]]\n",
    "e=a.shape\n",
    "avg1=np.sum(d)/(e[0])\n",
    "print(\"average of \",avg)\n",
    "print(\"average of \",avg1)"
   ]
  },
  {
   "cell_type": "code",
   "execution_count": 182,
   "id": "eaf43e8b-7ed1-4390-b916-8344daeaa361",
   "metadata": {},
   "outputs": [
    {
     "name": "stdout",
     "output_type": "stream",
     "text": [
      "1326846.0\n"
     ]
    }
   ],
   "source": [
    "#6>what is the shell weight\n",
    "a=data1[\"Shell Weight\"]\n",
    "b=np.sum(a)\n",
    "print(np.round(b))"
   ]
  },
  {
   "cell_type": "code",
   "execution_count": 190,
   "id": "db35829a-ead6-4bd1-840c-bf44e5b59721",
   "metadata": {},
   "outputs": [
    {
     "data": {
      "text/plain": [
       "(array([ 1,  2,  3,  4,  5,  6,  7,  8,  9, 10, 11, 12, 13, 14, 15, 16, 17,\n",
       "        18, 19, 20, 21, 22, 23, 24, 25, 26, 27, 29], dtype=int64),\n",
       " array([   46,    42,   625,  2787,  5475, 12450, 18276, 26818, 32906,\n",
       "        30803, 23457, 12717, 10037,  6352,  4831,  3191,  2705,  1953,\n",
       "         1591,  1206,   721,   296,   352,   110,    51,    46,    99,\n",
       "           57], dtype=int64))"
      ]
     },
     "execution_count": 190,
     "metadata": {},
     "output_type": "execute_result"
    }
   ],
   "source": [
    "#7>how many persons belongs to each and every unique age\n",
    "\n",
    "a=data1[[\"Age\"]]\n",
    "b=a.values\n",
    "np.unique(b[:,0],return_counts=True)"
   ]
  },
  {
   "cell_type": "code",
   "execution_count": 199,
   "id": "08fec75d-c751-4147-b650-9e8cfa3c5c23",
   "metadata": {},
   "outputs": [
    {
     "name": "stdout",
     "output_type": "stream",
     "text": [
      "the differemce between shucked weight and viscera weight is  999237.8582600503\n"
     ]
    }
   ],
   "source": [
    "#8>what is the differemce between shucked weight and viscera weight\n",
    "\n",
    "a=data1[[\"Shucked Weight\",\"Viscera Weight\"]].values\n",
    "b=np.sum(a[:,0])\n",
    "c=np.sum(a[:,1])\n",
    "print(\"the differemce between shucked weight and viscera weight is \",b-c)"
   ]
  },
  {
   "cell_type": "code",
   "execution_count": 206,
   "id": "75c2ae36-b48b-4067-a4b3-d5b87aa7b071",
   "metadata": {},
   "outputs": [
    {
     "name": "stdout",
     "output_type": "stream",
     "text": [
      "Average of  Height    0.41907\n",
      "dtype: float64\n"
     ]
    }
   ],
   "source": [
    "#9>what is the average height of the persons whose age is between 14 and 19.\n",
    "\n",
    "data=data1.loc[(data1[\"Age\"]>14) & (data1[\"Age\"]<19),[\"Height\"]]\n",
    "sum=np.sum(data)\n",
    "print(\"Average of \",sum/(data.shape)[0])"
   ]
  },
  {
   "cell_type": "code",
   "execution_count": 213,
   "id": "a44bf481-10c2-4a41-a141-4c1741050427",
   "metadata": {},
   "outputs": [
    {
     "name": "stdout",
     "output_type": "stream",
     "text": [
      "45.0\n"
     ]
    }
   ],
   "source": [
    "#10>what is the average weight if we include all shucked weight ,viscera weight and shell weight with weight.\n",
    "\n",
    "data=data1[[\"Shucked Weight\",\"Viscera Weight\",\"Shell Weight\",\"Weight\"]].values\n",
    "sum=np.sum(data[:,:])\n",
    "num=data.shape\n",
    "print(np.round(sum/num[0]))"
   ]
  },
  {
   "cell_type": "code",
   "execution_count": null,
   "id": "00d3b84f-c42d-4037-9c93-f96a73beb4e7",
   "metadata": {},
   "outputs": [],
   "source": []
  },
  {
   "cell_type": "code",
   "execution_count": null,
   "id": "40f08d2c-1a71-45f2-bf0e-95da5251e027",
   "metadata": {},
   "outputs": [],
   "source": []
  }
 ],
 "metadata": {
  "kernelspec": {
   "display_name": "Python 3 (ipykernel)",
   "language": "python",
   "name": "python3"
  },
  "language_info": {
   "codemirror_mode": {
    "name": "ipython",
    "version": 3
   },
   "file_extension": ".py",
   "mimetype": "text/x-python",
   "name": "python",
   "nbconvert_exporter": "python",
   "pygments_lexer": "ipython3",
   "version": "3.11.4"
  }
 },
 "nbformat": 4,
 "nbformat_minor": 5
}
