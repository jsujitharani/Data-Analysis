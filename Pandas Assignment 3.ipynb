{
 "cells": [
  {
   "cell_type": "code",
   "execution_count": 1,
   "id": "64ba3f3e-cd07-4011-ae92-f770dc9c8e9a",
   "metadata": {},
   "outputs": [],
   "source": [
    "import pandas as pd\n",
    "import numpy as np"
   ]
  },
  {
   "cell_type": "code",
   "execution_count": 2,
   "id": "26140448-f39f-4ac7-9afd-69081c614204",
   "metadata": {},
   "outputs": [],
   "source": [
    "data=pd.read_csv(r\"C:\\Users\\sujit\\Downloads\\all_grains_data.csv\")"
   ]
  },
  {
   "cell_type": "code",
   "execution_count": 3,
   "id": "ea26dfa5-39fc-4ddd-9894-ed5bde4d508c",
   "metadata": {},
   "outputs": [],
   "source": [
    "datac=data.copy()"
   ]
  },
  {
   "cell_type": "code",
   "execution_count": 4,
   "id": "cf6784c1-509b-4f1f-8203-fb474f8ad006",
   "metadata": {},
   "outputs": [
    {
     "data": {
      "text/html": [
       "<div>\n",
       "<style scoped>\n",
       "    .dataframe tbody tr th:only-of-type {\n",
       "        vertical-align: middle;\n",
       "    }\n",
       "\n",
       "    .dataframe tbody tr th {\n",
       "        vertical-align: top;\n",
       "    }\n",
       "\n",
       "    .dataframe thead th {\n",
       "        text-align: right;\n",
       "    }\n",
       "</style>\n",
       "<table border=\"1\" class=\"dataframe\">\n",
       "  <thead>\n",
       "    <tr style=\"text-align: right;\">\n",
       "      <th></th>\n",
       "      <th>open</th>\n",
       "      <th>high</th>\n",
       "      <th>low</th>\n",
       "      <th>close</th>\n",
       "      <th>volume</th>\n",
       "    </tr>\n",
       "  </thead>\n",
       "  <tbody>\n",
       "    <tr>\n",
       "      <th>count</th>\n",
       "      <td>34883.000000</td>\n",
       "      <td>34883.000000</td>\n",
       "      <td>34883.000000</td>\n",
       "      <td>34883.000000</td>\n",
       "      <td>34883.000000</td>\n",
       "    </tr>\n",
       "    <tr>\n",
       "      <th>mean</th>\n",
       "      <td>573.890888</td>\n",
       "      <td>579.401570</td>\n",
       "      <td>568.530326</td>\n",
       "      <td>573.880280</td>\n",
       "      <td>27606.105008</td>\n",
       "    </tr>\n",
       "    <tr>\n",
       "      <th>std</th>\n",
       "      <td>458.921582</td>\n",
       "      <td>463.500174</td>\n",
       "      <td>454.580653</td>\n",
       "      <td>458.949972</td>\n",
       "      <td>52347.602634</td>\n",
       "    </tr>\n",
       "    <tr>\n",
       "      <th>min</th>\n",
       "      <td>14.400000</td>\n",
       "      <td>14.410000</td>\n",
       "      <td>14.380000</td>\n",
       "      <td>14.380000</td>\n",
       "      <td>0.000000</td>\n",
       "    </tr>\n",
       "    <tr>\n",
       "      <th>25%</th>\n",
       "      <td>224.500000</td>\n",
       "      <td>226.500000</td>\n",
       "      <td>222.250000</td>\n",
       "      <td>224.250000</td>\n",
       "      <td>78.000000</td>\n",
       "    </tr>\n",
       "    <tr>\n",
       "      <th>50%</th>\n",
       "      <td>435.500000</td>\n",
       "      <td>439.000000</td>\n",
       "      <td>431.750000</td>\n",
       "      <td>435.750000</td>\n",
       "      <td>867.000000</td>\n",
       "    </tr>\n",
       "    <tr>\n",
       "      <th>75%</th>\n",
       "      <td>878.000000</td>\n",
       "      <td>886.500000</td>\n",
       "      <td>869.750000</td>\n",
       "      <td>877.125000</td>\n",
       "      <td>28293.500000</td>\n",
       "    </tr>\n",
       "    <tr>\n",
       "      <th>max</th>\n",
       "      <td>2435.000000</td>\n",
       "      <td>2468.500000</td>\n",
       "      <td>2400.000000</td>\n",
       "      <td>2446.000000</td>\n",
       "      <td>523849.000000</td>\n",
       "    </tr>\n",
       "  </tbody>\n",
       "</table>\n",
       "</div>"
      ],
      "text/plain": [
       "               open          high           low         close         volume\n",
       "count  34883.000000  34883.000000  34883.000000  34883.000000   34883.000000\n",
       "mean     573.890888    579.401570    568.530326    573.880280   27606.105008\n",
       "std      458.921582    463.500174    454.580653    458.949972   52347.602634\n",
       "min       14.400000     14.410000     14.380000     14.380000       0.000000\n",
       "25%      224.500000    226.500000    222.250000    224.250000      78.000000\n",
       "50%      435.500000    439.000000    431.750000    435.750000     867.000000\n",
       "75%      878.000000    886.500000    869.750000    877.125000   28293.500000\n",
       "max     2435.000000   2468.500000   2400.000000   2446.000000  523849.000000"
      ]
     },
     "execution_count": 4,
     "metadata": {},
     "output_type": "execute_result"
    }
   ],
   "source": [
    "datac.describe()"
   ]
  },
  {
   "cell_type": "code",
   "execution_count": 5,
   "id": "fe439829-60b7-4e42-a291-ac60148a76eb",
   "metadata": {},
   "outputs": [
    {
     "data": {
      "text/plain": [
       "(34883, 8)"
      ]
     },
     "execution_count": 5,
     "metadata": {},
     "output_type": "execute_result"
    }
   ],
   "source": [
    "datac.shape"
   ]
  },
  {
   "cell_type": "code",
   "execution_count": 6,
   "id": "37febddf-676c-4ab0-9eea-467763a12f19",
   "metadata": {},
   "outputs": [],
   "source": [
    "datac[\"date\"]=pd.to_datetime(datac[\"date\"])"
   ]
  },
  {
   "cell_type": "code",
   "execution_count": 7,
   "id": "daa449ff-220a-434d-a9f9-da4348b07fa3",
   "metadata": {},
   "outputs": [
    {
     "name": "stdout",
     "output_type": "stream",
     "text": [
      "<class 'pandas.core.frame.DataFrame'>\n",
      "RangeIndex: 34883 entries, 0 to 34882\n",
      "Data columns (total 8 columns):\n",
      " #   Column     Non-Null Count  Dtype         \n",
      "---  ------     --------------  -----         \n",
      " 0   ticker     34883 non-null  object        \n",
      " 1   commodity  34883 non-null  object        \n",
      " 2   date       34883 non-null  datetime64[ns]\n",
      " 3   open       34883 non-null  float64       \n",
      " 4   high       34883 non-null  float64       \n",
      " 5   low        34883 non-null  float64       \n",
      " 6   close      34883 non-null  float64       \n",
      " 7   volume     34883 non-null  int64         \n",
      "dtypes: datetime64[ns](1), float64(4), int64(1), object(2)\n",
      "memory usage: 2.1+ MB\n"
     ]
    }
   ],
   "source": [
    "datac.info()"
   ]
  },
  {
   "cell_type": "code",
   "execution_count": 8,
   "id": "f5b74be1-23b1-484a-bf15-e010b32e0178",
   "metadata": {},
   "outputs": [
    {
     "data": {
      "text/html": [
       "<div>\n",
       "<style scoped>\n",
       "    .dataframe tbody tr th:only-of-type {\n",
       "        vertical-align: middle;\n",
       "    }\n",
       "\n",
       "    .dataframe tbody tr th {\n",
       "        vertical-align: top;\n",
       "    }\n",
       "\n",
       "    .dataframe thead th {\n",
       "        text-align: right;\n",
       "    }\n",
       "</style>\n",
       "<table border=\"1\" class=\"dataframe\">\n",
       "  <thead>\n",
       "    <tr style=\"text-align: right;\">\n",
       "      <th></th>\n",
       "      <th>commodity</th>\n",
       "      <th>open</th>\n",
       "      <th>date</th>\n",
       "    </tr>\n",
       "  </thead>\n",
       "  <tbody>\n",
       "    <tr>\n",
       "      <th>19437</th>\n",
       "      <td>Rough Rice</td>\n",
       "      <td>2435.0</td>\n",
       "      <td>2008-04-24</td>\n",
       "    </tr>\n",
       "  </tbody>\n",
       "</table>\n",
       "</div>"
      ],
      "text/plain": [
       "        commodity    open       date\n",
       "19437  Rough Rice  2435.0 2008-04-24"
      ]
     },
     "execution_count": 8,
     "metadata": {},
     "output_type": "execute_result"
    }
   ],
   "source": [
    "#1>Which commodity was having the highest opening price for the day.\n",
    "max=datac[\"open\"].max()\n",
    "datac.loc[datac[\"open\"]==max,[\"commodity\",\"open\",\"date\"]]"
   ]
  },
  {
   "cell_type": "code",
   "execution_count": 9,
   "id": "1c140b16-0a98-4b4c-89f9-ebf64683092a",
   "metadata": {},
   "outputs": [
    {
     "data": {
      "text/html": [
       "<div>\n",
       "<style scoped>\n",
       "    .dataframe tbody tr th:only-of-type {\n",
       "        vertical-align: middle;\n",
       "    }\n",
       "\n",
       "    .dataframe tbody tr th {\n",
       "        vertical-align: top;\n",
       "    }\n",
       "\n",
       "    .dataframe thead th {\n",
       "        text-align: right;\n",
       "    }\n",
       "</style>\n",
       "<table border=\"1\" class=\"dataframe\">\n",
       "  <thead>\n",
       "    <tr style=\"text-align: right;\">\n",
       "      <th></th>\n",
       "      <th>commodity</th>\n",
       "      <th>high</th>\n",
       "      <th>date</th>\n",
       "    </tr>\n",
       "  </thead>\n",
       "  <tbody>\n",
       "    <tr>\n",
       "      <th>19437</th>\n",
       "      <td>Rough Rice</td>\n",
       "      <td>2468.5</td>\n",
       "      <td>2008-04-24</td>\n",
       "    </tr>\n",
       "  </tbody>\n",
       "</table>\n",
       "</div>"
      ],
      "text/plain": [
       "        commodity    high       date\n",
       "19437  Rough Rice  2468.5 2008-04-24"
      ]
     },
     "execution_count": 9,
     "metadata": {},
     "output_type": "execute_result"
    }
   ],
   "source": [
    "#2>Which commodity price reached  maximum during the trading session.\n",
    "max1=datac[\"high\"].max()\n",
    "datac.loc[datac[\"high\"]==max1,[\"commodity\",\"high\",\"date\"]]"
   ]
  },
  {
   "cell_type": "code",
   "execution_count": 12,
   "id": "e7cde48d-1b99-4be4-95cd-822df7b2138b",
   "metadata": {},
   "outputs": [
    {
     "data": {
      "text/plain": [
       "open    275.116071\n",
       "dtype: float64"
      ]
     },
     "execution_count": 12,
     "metadata": {},
     "output_type": "execute_result"
    }
   ],
   "source": [
    "#3>What is the average Market's opening price for the Oat in 2010\n",
    "datac.loc[(datac[\"date\"].dt.year==2010) & (datac[\"commodity\"]==\"Oat\"),[\"open\"]].mean()"
   ]
  },
  {
   "cell_type": "code",
   "execution_count": 10,
   "id": "d243bf32-2276-4273-9042-53b4eb5db552",
   "metadata": {},
   "outputs": [
    {
     "data": {
      "text/plain": [
       "array(['Corn', 'Oat', 'KC HRW Wheat', 'Rough Rice', 'Soybean Oil',\n",
       "       'Soybean'], dtype=object)"
      ]
     },
     "execution_count": 10,
     "metadata": {},
     "output_type": "execute_result"
    }
   ],
   "source": [
    "datac[\"commodity\"].unique()"
   ]
  },
  {
   "cell_type": "code",
   "execution_count": 17,
   "id": "2b3a104e-0ba7-43df-8495-ea57ba3d0506",
   "metadata": {},
   "outputs": [
    {
     "name": "stdout",
     "output_type": "stream",
     "text": [
      "maximum number of contracts traded during 2009\n",
      " volume    252221\n",
      "dtype: int64\n",
      "minimum number of contracts traded during 2009\n",
      " volume    0\n",
      "dtype: int64\n"
     ]
    }
   ],
   "source": [
    "#4>What is the maximum and minimum Number of contracts traded during the 2009 \n",
    "max=datac.loc[(datac[\"date\"].dt.year==2009),[\"volume\"]].max()\n",
    "min=datac.loc[(datac[\"date\"].dt.year==2009),[\"volume\"]].min()\n",
    "print(\"maximum number of contracts traded during 2009\\n\",max)\n",
    "print(\"minimum number of contracts traded during 2009\\n\",min)"
   ]
  },
  {
   "cell_type": "code",
   "execution_count": 24,
   "id": "cf4b415e-2f84-4160-83db-c91a6680f4f0",
   "metadata": {},
   "outputs": [
    {
     "name": "stdout",
     "output_type": "stream",
     "text": [
      "the year when the maximum number of trades traded\n",
      "            date\n",
      "4216 2017-06-07\n",
      "\n",
      "the years when the minimum number of trades traded\n",
      "             date\n",
      "821   2003-12-11\n",
      "1328  2005-12-13\n",
      "4486  2018-07-03\n",
      "4528  2018-08-31\n",
      "5682  2023-04-06\n",
      "...          ...\n",
      "29219 2001-03-13\n",
      "30306 2005-07-12\n",
      "33573 2018-07-03\n",
      "33615 2018-08-31\n",
      "34771 2023-04-06\n",
      "\n",
      "[2812 rows x 1 columns]\n"
     ]
    }
   ],
   "source": [
    "#5>Which year have  maximum and minimum Number of contracts traded \n",
    "max=datac[\"volume\"].max()\n",
    "min=datac[\"volume\"].min()\n",
    "year_max=datac.loc[datac[\"volume\"]==max,[\"date\"]]\n",
    "year_min=datac.loc[datac[\"volume\"]==min,[\"date\"]]\n",
    "print(\"the year when the maximum number of trades traded\\n\",year_max)\n",
    "print()\n",
    "print(\"the years when the minimum number of trades traded\\n\",year_min)"
   ]
  },
  {
   "cell_type": "code",
   "execution_count": 50,
   "id": "ec12580b-2986-4af9-8415-ad7cfe5712e6",
   "metadata": {},
   "outputs": [
    {
     "data": {
      "text/plain": [
       "open    21.41611\n",
       "Name: Soybean Oil, dtype: float64"
      ]
     },
     "execution_count": 50,
     "metadata": {},
     "output_type": "execute_result"
    }
   ],
   "source": [
    "#6>Which commodity have the average lowest opening price around 2001 to 2005\n",
    "max=datac.loc[(datac[\"date\"].dt.year>=2001) & (datac[\"date\"].dt.year<=2005),[\"commodity\",\"open\",\"date\"]]\n",
    "g=max.groupby(\"commodity\")\n",
    "a=g[[\"open\"]].mean()\n",
    "a.loc[\"Soybean Oil\"]"
   ]
  },
  {
   "cell_type": "code",
   "execution_count": 54,
   "id": "358a9694-316b-405a-a864-bc6496bd3fa5",
   "metadata": {},
   "outputs": [
    {
     "data": {
      "text/plain": [
       "close    1143.607925\n",
       "Name: Rough Rice, dtype: float64"
      ]
     },
     "execution_count": 54,
     "metadata": {},
     "output_type": "execute_result"
    }
   ],
   "source": [
    "#7>Which commodity have the best average  Market's closing price\n",
    "#max=datac.loc[(datac[\"date\"].dt.year>=2001) & (datac[\"date\"].dt.year<=2005),[\"commodity\",\"open\",\"date\"]]\n",
    "g=datac.groupby(\"commodity\")\n",
    "a=g[[\"close\"]].mean()\n",
    "a.loc[\"Rough Rice\"]\n"
   ]
  },
  {
   "cell_type": "code",
   "execution_count": 59,
   "id": "fdec8387-4337-4981-89d7-90b7c91b8411",
   "metadata": {},
   "outputs": [
    {
     "name": "stdout",
     "output_type": "stream",
     "text": [
      "the year when the maximum number of trades traded for CORN\n",
      "            date\n",
      "4216 2017-06-07\n",
      "\n",
      "the years when the minimum number of trades traded for CORN\n",
      "            date\n",
      "821  2003-12-11\n",
      "1328 2005-12-13\n",
      "4486 2018-07-03\n",
      "4528 2018-08-31\n",
      "5682 2023-04-06\n"
     ]
    }
   ],
   "source": [
    "#8>Which year corn have the highest and lowest Number of contracts traded\n",
    "max=datac[\"volume\"].max()\n",
    "min=datac[\"volume\"].min()\n",
    "year_max=datac.loc[(datac[\"volume\"]==max) & (datac[\"commodity\"]==\"Corn\"),[\"date\"]]\n",
    "year_min=datac.loc[(datac[\"volume\"]==min) & (datac[\"commodity\"]==\"Corn\"),[\"date\"]]\n",
    "print(\"the year when the maximum number of trades traded for CORN\\n\",year_max)\n",
    "print()\n",
    "print(\"the years when the minimum number of trades traded for CORN\\n\",year_min)"
   ]
  },
  {
   "cell_type": "code",
   "execution_count": 14,
   "id": "8f730254-a92f-4805-b5da-959a9ec5d090",
   "metadata": {},
   "outputs": [
    {
     "data": {
      "text/html": [
       "<div>\n",
       "<style scoped>\n",
       "    .dataframe tbody tr th:only-of-type {\n",
       "        vertical-align: middle;\n",
       "    }\n",
       "\n",
       "    .dataframe tbody tr th {\n",
       "        vertical-align: top;\n",
       "    }\n",
       "\n",
       "    .dataframe thead th {\n",
       "        text-align: right;\n",
       "    }\n",
       "</style>\n",
       "<table border=\"1\" class=\"dataframe\">\n",
       "  <thead>\n",
       "    <tr style=\"text-align: right;\">\n",
       "      <th></th>\n",
       "      <th>ticker</th>\n",
       "      <th>commodity</th>\n",
       "      <th>date</th>\n",
       "      <th>open</th>\n",
       "      <th>high</th>\n",
       "      <th>low</th>\n",
       "      <th>close</th>\n",
       "      <th>volume</th>\n",
       "    </tr>\n",
       "  </thead>\n",
       "  <tbody>\n",
       "    <tr>\n",
       "      <th>0</th>\n",
       "      <td>ZC=F</td>\n",
       "      <td>Corn</td>\n",
       "      <td>2000-07-17</td>\n",
       "      <td>182.25</td>\n",
       "      <td>182.25</td>\n",
       "      <td>178.25</td>\n",
       "      <td>179.25</td>\n",
       "      <td>19385</td>\n",
       "    </tr>\n",
       "    <tr>\n",
       "      <th>1</th>\n",
       "      <td>ZC=F</td>\n",
       "      <td>Corn</td>\n",
       "      <td>2000-07-18</td>\n",
       "      <td>179.00</td>\n",
       "      <td>183.25</td>\n",
       "      <td>179.00</td>\n",
       "      <td>180.75</td>\n",
       "      <td>25205</td>\n",
       "    </tr>\n",
       "    <tr>\n",
       "      <th>2</th>\n",
       "      <td>ZC=F</td>\n",
       "      <td>Corn</td>\n",
       "      <td>2000-07-19</td>\n",
       "      <td>180.00</td>\n",
       "      <td>182.75</td>\n",
       "      <td>178.75</td>\n",
       "      <td>182.00</td>\n",
       "      <td>17126</td>\n",
       "    </tr>\n",
       "    <tr>\n",
       "      <th>3</th>\n",
       "      <td>ZC=F</td>\n",
       "      <td>Corn</td>\n",
       "      <td>2000-07-20</td>\n",
       "      <td>181.50</td>\n",
       "      <td>187.00</td>\n",
       "      <td>181.00</td>\n",
       "      <td>186.00</td>\n",
       "      <td>18742</td>\n",
       "    </tr>\n",
       "    <tr>\n",
       "      <th>4</th>\n",
       "      <td>ZC=F</td>\n",
       "      <td>Corn</td>\n",
       "      <td>2000-07-21</td>\n",
       "      <td>185.50</td>\n",
       "      <td>188.00</td>\n",
       "      <td>185.00</td>\n",
       "      <td>187.75</td>\n",
       "      <td>16814</td>\n",
       "    </tr>\n",
       "    <tr>\n",
       "      <th>...</th>\n",
       "      <td>...</td>\n",
       "      <td>...</td>\n",
       "      <td>...</td>\n",
       "      <td>...</td>\n",
       "      <td>...</td>\n",
       "      <td>...</td>\n",
       "      <td>...</td>\n",
       "      <td>...</td>\n",
       "    </tr>\n",
       "    <tr>\n",
       "      <th>34878</th>\n",
       "      <td>ZS=F</td>\n",
       "      <td>Soybean</td>\n",
       "      <td>2023-09-11</td>\n",
       "      <td>1352.50</td>\n",
       "      <td>1352.50</td>\n",
       "      <td>1352.00</td>\n",
       "      <td>1352.50</td>\n",
       "      <td>36</td>\n",
       "    </tr>\n",
       "    <tr>\n",
       "      <th>34879</th>\n",
       "      <td>ZS=F</td>\n",
       "      <td>Soybean</td>\n",
       "      <td>2023-09-12</td>\n",
       "      <td>1348.75</td>\n",
       "      <td>1348.75</td>\n",
       "      <td>1331.75</td>\n",
       "      <td>1331.75</td>\n",
       "      <td>274</td>\n",
       "    </tr>\n",
       "    <tr>\n",
       "      <th>34880</th>\n",
       "      <td>ZS=F</td>\n",
       "      <td>Soybean</td>\n",
       "      <td>2023-09-13</td>\n",
       "      <td>1325.50</td>\n",
       "      <td>1336.00</td>\n",
       "      <td>1325.50</td>\n",
       "      <td>1336.00</td>\n",
       "      <td>201</td>\n",
       "    </tr>\n",
       "    <tr>\n",
       "      <th>34881</th>\n",
       "      <td>ZS=F</td>\n",
       "      <td>Soybean</td>\n",
       "      <td>2023-09-14</td>\n",
       "      <td>1343.75</td>\n",
       "      <td>1343.75</td>\n",
       "      <td>1343.75</td>\n",
       "      <td>1343.75</td>\n",
       "      <td>138778</td>\n",
       "    </tr>\n",
       "    <tr>\n",
       "      <th>34882</th>\n",
       "      <td>ZS=F</td>\n",
       "      <td>Soybean</td>\n",
       "      <td>2023-09-15</td>\n",
       "      <td>1360.50</td>\n",
       "      <td>1367.75</td>\n",
       "      <td>1338.25</td>\n",
       "      <td>1340.25</td>\n",
       "      <td>138778</td>\n",
       "    </tr>\n",
       "  </tbody>\n",
       "</table>\n",
       "<p>34883 rows × 8 columns</p>\n",
       "</div>"
      ],
      "text/plain": [
       "      ticker commodity       date     open     high      low    close  volume\n",
       "0       ZC=F      Corn 2000-07-17   182.25   182.25   178.25   179.25   19385\n",
       "1       ZC=F      Corn 2000-07-18   179.00   183.25   179.00   180.75   25205\n",
       "2       ZC=F      Corn 2000-07-19   180.00   182.75   178.75   182.00   17126\n",
       "3       ZC=F      Corn 2000-07-20   181.50   187.00   181.00   186.00   18742\n",
       "4       ZC=F      Corn 2000-07-21   185.50   188.00   185.00   187.75   16814\n",
       "...      ...       ...        ...      ...      ...      ...      ...     ...\n",
       "34878   ZS=F   Soybean 2023-09-11  1352.50  1352.50  1352.00  1352.50      36\n",
       "34879   ZS=F   Soybean 2023-09-12  1348.75  1348.75  1331.75  1331.75     274\n",
       "34880   ZS=F   Soybean 2023-09-13  1325.50  1336.00  1325.50  1336.00     201\n",
       "34881   ZS=F   Soybean 2023-09-14  1343.75  1343.75  1343.75  1343.75  138778\n",
       "34882   ZS=F   Soybean 2023-09-15  1360.50  1367.75  1338.25  1340.25  138778\n",
       "\n",
       "[34883 rows x 8 columns]"
      ]
     },
     "execution_count": 14,
     "metadata": {},
     "output_type": "execute_result"
    }
   ],
   "source": [
    "datac"
   ]
  },
  {
   "cell_type": "code",
   "execution_count": 21,
   "id": "84c06548-ffa8-4614-bae8-837b345fde9e",
   "metadata": {},
   "outputs": [
    {
     "data": {
      "text/html": [
       "<div>\n",
       "<style scoped>\n",
       "    .dataframe tbody tr th:only-of-type {\n",
       "        vertical-align: middle;\n",
       "    }\n",
       "\n",
       "    .dataframe tbody tr th {\n",
       "        vertical-align: top;\n",
       "    }\n",
       "\n",
       "    .dataframe thead th {\n",
       "        text-align: right;\n",
       "    }\n",
       "</style>\n",
       "<table border=\"1\" class=\"dataframe\">\n",
       "  <thead>\n",
       "    <tr style=\"text-align: right;\">\n",
       "      <th></th>\n",
       "      <th>open</th>\n",
       "      <th>high</th>\n",
       "      <th>low</th>\n",
       "      <th>close</th>\n",
       "      <th>volume</th>\n",
       "    </tr>\n",
       "    <tr>\n",
       "      <th>commodity</th>\n",
       "      <th></th>\n",
       "      <th></th>\n",
       "      <th></th>\n",
       "      <th></th>\n",
       "      <th></th>\n",
       "    </tr>\n",
       "  </thead>\n",
       "  <tbody>\n",
       "    <tr>\n",
       "      <th>Corn</th>\n",
       "      <td>2.371380e+06</td>\n",
       "      <td>2.398804e+06</td>\n",
       "      <td>2.345653e+06</td>\n",
       "      <td>2.372091e+06</td>\n",
       "      <td>497349522</td>\n",
       "    </tr>\n",
       "    <tr>\n",
       "      <th>KC HRW Wheat</th>\n",
       "      <td>3.261528e+06</td>\n",
       "      <td>3.301767e+06</td>\n",
       "      <td>3.223747e+06</td>\n",
       "      <td>3.259838e+06</td>\n",
       "      <td>51461354</td>\n",
       "    </tr>\n",
       "    <tr>\n",
       "      <th>Oat</th>\n",
       "      <td>1.610072e+06</td>\n",
       "      <td>1.628864e+06</td>\n",
       "      <td>1.589876e+06</td>\n",
       "      <td>1.608691e+06</td>\n",
       "      <td>1829431</td>\n",
       "    </tr>\n",
       "    <tr>\n",
       "      <th>Rough Rice</th>\n",
       "      <td>6.789809e+06</td>\n",
       "      <td>6.838006e+06</td>\n",
       "      <td>6.737390e+06</td>\n",
       "      <td>6.789600e+06</td>\n",
       "      <td>2305632</td>\n",
       "    </tr>\n",
       "    <tr>\n",
       "      <th>Soybean</th>\n",
       "      <td>5.772221e+06</td>\n",
       "      <td>5.827814e+06</td>\n",
       "      <td>5.723405e+06</td>\n",
       "      <td>5.774519e+06</td>\n",
       "      <td>284104010</td>\n",
       "    </tr>\n",
       "    <tr>\n",
       "      <th>Soybean Oil</th>\n",
       "      <td>2.140249e+05</td>\n",
       "      <td>2.160094e+05</td>\n",
       "      <td>2.119723e+05</td>\n",
       "      <td>2.139263e+05</td>\n",
       "      <td>125933812</td>\n",
       "    </tr>\n",
       "  </tbody>\n",
       "</table>\n",
       "</div>"
      ],
      "text/plain": [
       "                      open          high           low         close  \\\n",
       "commodity                                                              \n",
       "Corn          2.371380e+06  2.398804e+06  2.345653e+06  2.372091e+06   \n",
       "KC HRW Wheat  3.261528e+06  3.301767e+06  3.223747e+06  3.259838e+06   \n",
       "Oat           1.610072e+06  1.628864e+06  1.589876e+06  1.608691e+06   \n",
       "Rough Rice    6.789809e+06  6.838006e+06  6.737390e+06  6.789600e+06   \n",
       "Soybean       5.772221e+06  5.827814e+06  5.723405e+06  5.774519e+06   \n",
       "Soybean Oil   2.140249e+05  2.160094e+05  2.119723e+05  2.139263e+05   \n",
       "\n",
       "                 volume  \n",
       "commodity                \n",
       "Corn          497349522  \n",
       "KC HRW Wheat   51461354  \n",
       "Oat             1829431  \n",
       "Rough Rice      2305632  \n",
       "Soybean       284104010  \n",
       "Soybean Oil   125933812  "
      ]
     },
     "execution_count": 21,
     "metadata": {},
     "output_type": "execute_result"
    }
   ],
   "source": [
    "a"
   ]
  },
  {
   "cell_type": "code",
   "execution_count": 22,
   "id": "a148489a-9e52-4513-a9fa-f2641b21b878",
   "metadata": {},
   "outputs": [
    {
     "data": {
      "text/plain": [
       "2468.5"
      ]
     },
     "execution_count": 22,
     "metadata": {},
     "output_type": "execute_result"
    }
   ],
   "source": [
    "datac[\"high\"].max()"
   ]
  },
  {
   "cell_type": "code",
   "execution_count": null,
   "id": "0ef21fa4-5cca-4c07-8908-b84796367272",
   "metadata": {},
   "outputs": [],
   "source": []
  }
 ],
 "metadata": {
  "kernelspec": {
   "display_name": "Python 3 (ipykernel)",
   "language": "python",
   "name": "python3"
  },
  "language_info": {
   "codemirror_mode": {
    "name": "ipython",
    "version": 3
   },
   "file_extension": ".py",
   "mimetype": "text/x-python",
   "name": "python",
   "nbconvert_exporter": "python",
   "pygments_lexer": "ipython3",
   "version": "3.11.4"
  }
 },
 "nbformat": 4,
 "nbformat_minor": 5
}
